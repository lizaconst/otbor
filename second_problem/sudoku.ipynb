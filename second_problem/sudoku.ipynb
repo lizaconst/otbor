{
 "cells": [
  {
   "cell_type": "code",
   "execution_count": 9,
   "metadata": {},
   "outputs": [],
   "source": [
    "from random import randint, sample\n",
    "import copy"
   ]
  },
  {
   "cell_type": "code",
   "execution_count": 10,
   "metadata": {},
   "outputs": [],
   "source": [
    "class Board:\n",
    "    def __init__(self, cells):\n",
    "        self.cells = cells\n",
    "        self.game_board =           [[1, 2, 3, 4, 5, 6, 7, 8, 9],\n",
    "                                     [4, 5, 6, 7, 8, 9, 1, 2, 3],\n",
    "                                     [7, 8, 9, 1, 2, 3, 4, 5, 6],\n",
    "                                     [2, 3, 4, 5, 6, 7, 8, 9, 1],\n",
    "                                     [5, 6, 7, 8, 9, 1, 2, 3, 4],\n",
    "                                     [8, 9, 1, 2, 3, 4, 5, 6, 7],\n",
    "                                     [3, 4, 5, 6, 7, 8, 9, 1, 2],\n",
    "                                     [6, 7, 8, 9, 1, 2, 3, 4, 5],\n",
    "                                     [9, 1, 2, 3, 4, 5, 6, 7, 8]]\n",
    "        self.game_board_delete = None\n",
    "    \n",
    "    def transpose(self):\n",
    "        new = copy.deepcopy(self.game_board)\n",
    "        for i in range(9):\n",
    "            for j in range(9):\n",
    "                new[j][i] = self.game_board[i][j]\n",
    "        self.game_board = copy.deepcopy(new)\n",
    "                \n",
    "    def change_rows(self):\n",
    "        n = randint(0, 2)\n",
    "        r_1 = randint(0, 2)\n",
    "        r_2 = randint(0, 2)\n",
    "        row_1 = n*3 + r_1\n",
    "        row_2 = n*3 + r_2 \n",
    "        a = self.game_board\n",
    "        a[row_1], a[row_2] = a[row_2], a[row_1]\n",
    "        \n",
    "    def change_cols(self):\n",
    "        self.transpose()\n",
    "        self.change_rows()\n",
    "        self.transpose()\n",
    "        \n",
    "    def change_areas_rows(self):\n",
    "        n_1 = randint(0, 2)*3\n",
    "        n_2 = randint(0, 2)*3\n",
    "        a = self.game_board\n",
    "        a[n_1:n_1+3],  a[n_2:n_2+3] = a[n_2:n_2+3],  a[n_1:n_1+3]\n",
    "    \n",
    "    def change_areas_cols(self):\n",
    "        self.transpose()\n",
    "        self.change_areas_rows()\n",
    "        self.transpose()\n",
    "        \n",
    "    def delete_cells(self):\n",
    "        self.game_board_delete = copy.deepcopy(self.game_board)\n",
    "        rows = sample([w for w in range(0, 81)], k = self.cells)\n",
    "        for i in range(self.cells):\n",
    "            self.game_board_delete[rows[i] // 9][rows[i] % 9] = 0    \n",
    "    \n",
    "    def create_board(self):\n",
    "        i = randint(50, 100)\n",
    "        for j in range(i):\n",
    "            k = randint(0, 4)\n",
    "            if k == 0:\n",
    "                self.transpose()\n",
    "            if k == 1:\n",
    "                self.change_rows()\n",
    "            if k == 2:\n",
    "                self.change_cols()\n",
    "            if k == 3:\n",
    "                self.change_areas_rows()\n",
    "            if k == 4:\n",
    "                self.change_areas_cols()\n",
    "        self.delete_cells()\n",
    "                \n",
    "    def show_board(self):\n",
    "        for i in range(9):\n",
    "            print(self.game_board[i])\n",
    "                \n",
    "    def show_board_deleted(self):\n",
    "        for i in range(9):\n",
    "            print(self.game_board_delete[i])"
   ]
  },
  {
   "cell_type": "code",
   "execution_count": 11,
   "metadata": {},
   "outputs": [],
   "source": [
    "class Game:\n",
    "    def __init__(self, cells):\n",
    "        self.cells = 81 - cells\n",
    "        self.board = Board(self.cells)\n",
    "        self.board.create_board()\n",
    "    \n",
    "    def show_for_user(self):\n",
    "        for i in range(9):\n",
    "            if i == 3 or i == 6:\n",
    "                print('\\n')\n",
    "            for j in range(9):\n",
    "                if j == 3 or j == 6:\n",
    "                    print('     ', end='')\n",
    "                print(self.board.game_board_delete[i][j], end=' ') \n",
    "            print('\\n')\n",
    "            \n",
    "    def show_full_board(self):\n",
    "        for i in range(9):\n",
    "            if i == 3 or i == 6:\n",
    "                print('\\n')\n",
    "            for j in range(9):\n",
    "                if j == 3 or j == 6:\n",
    "                    print('     ', end='')\n",
    "                print(self.board.game_board[i][j], end=' ') \n",
    "            print('\\n')"
   ]
  },
  {
   "cell_type": "markdown",
   "metadata": {},
   "source": [
    "## 0 - клетку нужно заполнить игроку"
   ]
  },
  {
   "cell_type": "code",
   "execution_count": 12,
   "metadata": {},
   "outputs": [
    {
     "name": "stdout",
     "output_type": "stream",
     "text": [
      "0 9 1      0 0 8      0 5 0 \n",
      "\n",
      "5 3 0      0 0 2      7 8 6 \n",
      "\n",
      "0 6 7      3 4 5      1 2 0 \n",
      "\n",
      "\n",
      "\n",
      "9 7 0      0 5 6      0 0 1 \n",
      "\n",
      "0 4 5      1 2 3      0 0 7 \n",
      "\n",
      "3 1 2      7 0 9      5 0 0 \n",
      "\n",
      "\n",
      "\n",
      "4 2 3      8 9 1      0 0 5 \n",
      "\n",
      "0 0 9      5 0 0      0 0 2 \n",
      "\n",
      "0 5 6      2 0 4      9 1 0 \n",
      "\n"
     ]
    }
   ],
   "source": [
    "#пример доски \n",
    "game = Game(50)\n",
    "game.show_for_user()"
   ]
  },
  {
   "cell_type": "code",
   "execution_count": 13,
   "metadata": {},
   "outputs": [
    {
     "name": "stdout",
     "output_type": "stream",
     "text": [
      "4 3 2      6 7 5      9 8 1 \n",
      "\n",
      "7 6 5      9 1 8      3 2 4 \n",
      "\n",
      "1 9 8      3 4 2      6 5 7 \n",
      "\n",
      "\n",
      "\n",
      "3 2 1      5 6 4      8 7 9 \n",
      "\n",
      "6 5 4      8 9 7      2 1 3 \n",
      "\n",
      "9 8 7      2 3 1      5 4 6 \n",
      "\n",
      "\n",
      "\n",
      "5 4 3      7 8 6      1 9 2 \n",
      "\n",
      "2 1 9      4 5 3      7 6 8 \n",
      "\n",
      "8 7 6      1 2 9      4 3 5 \n",
      "\n"
     ]
    }
   ],
   "source": [
    "#пример сгенерированной доски\n",
    "game = Game(50)\n",
    "game.show_full_board()"
   ]
  }
 ],
 "metadata": {
  "kernelspec": {
   "display_name": "Python 3",
   "language": "python",
   "name": "python3"
  },
  "language_info": {
   "codemirror_mode": {
    "name": "ipython",
    "version": 3
   },
   "file_extension": ".py",
   "mimetype": "text/x-python",
   "name": "python",
   "nbconvert_exporter": "python",
   "pygments_lexer": "ipython3",
   "version": "3.7.6"
  }
 },
 "nbformat": 4,
 "nbformat_minor": 4
}
