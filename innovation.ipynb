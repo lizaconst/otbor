{
 "cells": [
  {
   "cell_type": "code",
   "execution_count": 59,
   "metadata": {},
   "outputs": [
    {
     "name": "stdout",
     "output_type": "stream",
     "text": [
      "Изменение стоимости акций: 856.0\n",
      "Время покупки: 29.09.2015 в 11:02\n",
      "Время продажи: 28.07.2016 в 16:34\n"
     ]
    }
   ],
   "source": [
    "import pandas as pd\n",
    "data = pd.read_csv('new.csv')\n",
    "\n",
    "mini = data.iloc[0]['price']\n",
    "maxi = 0\n",
    "ans = maxi - mini\n",
    "a = data['price']\n",
    "for i in range(1, len(a)):\n",
    "    if a[i] - mini > ans:\n",
    "        ans = a[i] - mini\n",
    "        maxi = data.iloc[i]['price']\n",
    "        date_sell = data.iloc[i]['date']\n",
    "        time_sell = data.iloc[i]['time']\n",
    "    if a[i] < mini:\n",
    "        mini = data.iloc[i]['price']\n",
    "        date_buy = data.iloc[i]['date']\n",
    "        time_buy = data.iloc[i]['time']\n",
    "        \n",
    "date_buy = str(int(date_buy))\n",
    "time_buy = str(int(time_buy))\n",
    "date_sell = str(int(date_sell))\n",
    "time_sell = str(int(time_sell))\n",
    "\n",
    "if ans <= 0:\n",
    "    print('Ничего покупать не надо, прибыли не будет')\n",
    "else:    \n",
    "    print(\"Изменение стоимости акций: {}\".format(ans))\n",
    "    print(\"Время покупки: {}.{}.{} в {}:{}\".format(date_buy[6:8], date_buy[4:6], date_buy[:4], time_buy[:2], time_buy[2:4]))\n",
    "    print(\"Время продажи: {}.{}.{} в {}:{}\".format(date_sell[6:8], date_sell[4:6], date_sell[:4], time_sell[:2], time_sell[2:4]))"
   ]
  }
 ],
 "metadata": {
  "kernelspec": {
   "display_name": "Python 3",
   "language": "python",
   "name": "python3"
  },
  "language_info": {
   "codemirror_mode": {
    "name": "ipython",
    "version": 3
   },
   "file_extension": ".py",
   "mimetype": "text/x-python",
   "name": "python",
   "nbconvert_exporter": "python",
   "pygments_lexer": "ipython3",
   "version": "3.7.6"
  }
 },
 "nbformat": 4,
 "nbformat_minor": 4
}
